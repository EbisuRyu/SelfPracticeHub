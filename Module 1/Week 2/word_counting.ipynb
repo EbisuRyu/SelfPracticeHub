{
 "cells": [
  {
   "cell_type": "code",
   "execution_count": 1,
   "metadata": {},
   "outputs": [
    {
     "name": "stdout",
     "output_type": "stream",
     "text": [
      "d:\\AIO 2024\\SelfPracticeHub\\Module 1\\Week 2\\materials\n",
      "d:\\AIO 2024\\SelfPracticeHub\\Module 1\\Week 2\n"
     ]
    },
    {
     "name": "stderr",
     "output_type": "stream",
     "text": [
      "Downloading...\n",
      "From: https://drive.google.com/uc?id=1IBScGdW2xlNsc9v5zSAya548kNgiOrko\n",
      "To: d:\\AIO 2024\\SelfPracticeHub\\Module 1\\Week 2\\materials\\P1_data.txt\n",
      "\n",
      "  0%|          | 0.00/747 [00:00<?, ?B/s]\n",
      "100%|██████████| 747/747 [00:00<?, ?B/s] \n"
     ]
    }
   ],
   "source": [
    "%cd ./materials\n",
    "!gdown https://drive.google.com/uc?id=1IBScGdW2xlNsc9v5zSAya548kNgiOrko\n",
    "%cd ../"
   ]
  },
  {
   "cell_type": "code",
   "execution_count": 8,
   "metadata": {},
   "outputs": [],
   "source": [
    "def word_counting(file_path):\n",
    "    \"\"\"\n",
    "    Counts the occurrences of each word in a text file and returns a sorted dictionary of word counts.\n",
    "\n",
    "    Args:\n",
    "        file_path (str): The path to the text file.\n",
    "\n",
    "    Returns:\n",
    "        dict: A sorted dictionary where keys are unique words and values are their counts.\n",
    "    \"\"\"\n",
    "    # Initialize an empty dictionary to store word counts\n",
    "    counting_dict = dict()\n",
    "    \n",
    "    # Open the file and read its contents\n",
    "    with open(file_path, 'r') as file:\n",
    "        # Convert all text to lowercase for case-insensitive counting\n",
    "        text = file.read().lower()\n",
    "        \n",
    "        # Iterate through each word in the text\n",
    "        for word in text.split():\n",
    "            # Update the count for each word in the dictionary\n",
    "            if word not in counting_dict.keys():\n",
    "                counting_dict[word] = 1\n",
    "            else:\n",
    "                counting_dict[word] += 1\n",
    "                \n",
    "        # Sort the dictionary by keys\n",
    "        sorted_counting_dict = {key: counting_dict[key] for key in sorted(counting_dict.keys())}\n",
    "        \n",
    "    # Return the sorted dictionary of word counts\n",
    "    return sorted_counting_dict\n"
   ]
  },
  {
   "cell_type": "code",
   "execution_count": 9,
   "metadata": {},
   "outputs": [
    {
     "name": "stdout",
     "output_type": "stream",
     "text": [
      "{'a': 7, 'again': 1, 'and': 1, 'are': 1, 'at': 1, 'be': 1, 'become': 2, 'bricks': 1, 'busy': 1, 'but': 1, 'came': 1, 'can': 3, 'cannot': 1, 'change': 1, 'comes': 2, 'conquers': 1, 'courage': 1, 'day': 1, 'different': 1, 'employed': 1, 'enough': 1, 'everything': 1, 'firm': 1, 'for': 3, 'foundation': 1, 'from': 1, 'get': 2, 'have': 1, 'he': 1, 'help': 1, 'him': 1, 'himself': 1, 'his': 2, 'if': 1, 'in': 4, 'is': 3, 'it': 2, 'just': 2, 'kind': 1, 'lay': 1, 'life': 2, 'looking': 1, 'majority': 1, 'makes': 1, 'man': 6, 'mightiest': 1, 'mistakes': 1, 'morning': 1, 'not': 1, 'of': 4, 'one': 4, 'opportunity': 1, 'other': 1, 'others': 1, 'people': 1, 'positive': 1, 'problems': 1, 'profit': 1, 'rather': 1, 'ready': 1, 'secret': 1, 'small': 1, 'solve': 1, 'success': 3, 'successful': 2, 'the': 5, 'them': 1, 'they': 1, 'thinking': 1, 'those': 1, 'thought': 1, 'thrown': 1, 'to': 3, 'too': 1, 'try': 2, 'up': 1, 'usually': 1, 'value': 1, 'want': 2, 'warrior': 1, 'way': 1, 'we': 3, 'what': 1, 'when': 2, 'who': 3, 'whole': 1, 'will': 2, 'with': 4, 'you': 3, 'your': 1}\n"
     ]
    }
   ],
   "source": [
    "# Test Cases\n",
    "file_path = './materials/P1_data.txt'\n",
    "print(word_counting(file_path))"
   ]
  }
 ],
 "metadata": {
  "kernelspec": {
   "display_name": "factorial_env",
   "language": "python",
   "name": "python3"
  },
  "language_info": {
   "codemirror_mode": {
    "name": "ipython",
    "version": 3
   },
   "file_extension": ".py",
   "mimetype": "text/x-python",
   "name": "python",
   "nbconvert_exporter": "python",
   "pygments_lexer": "ipython3",
   "version": "3.11.8"
  }
 },
 "nbformat": 4,
 "nbformat_minor": 2
}
