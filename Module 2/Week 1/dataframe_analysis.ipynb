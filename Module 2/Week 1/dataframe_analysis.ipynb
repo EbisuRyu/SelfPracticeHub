{
 "cells": [
  {
   "cell_type": "markdown",
   "metadata": {},
   "source": [
    "##### **Reading Dataset**"
   ]
  },
  {
   "cell_type": "code",
   "execution_count": 5,
   "metadata": {},
   "outputs": [
    {
     "name": "stdout",
     "output_type": "stream",
     "text": [
      "DataFrame Columns:  Index(['TV', 'Radio', 'Newspaper', 'Sales'], dtype='object')\n"
     ]
    }
   ],
   "source": [
    "import pandas as pd\n",
    "\n",
    "df = pd.read_csv('./materials/advertising.csv')\n",
    "print('DataFrame Columns: ', df.columns)\n",
    "data = df.to_numpy()"
   ]
  },
  {
   "cell_type": "markdown",
   "metadata": {},
   "source": [
    "##### **Question 1**"
   ]
  },
  {
   "cell_type": "code",
   "execution_count": 10,
   "metadata": {},
   "outputs": [
    {
     "name": "stdout",
     "output_type": "stream",
     "text": [
      "Max index of Sales column: 175\n",
      "Max value of Sales column: 27.0\n"
     ]
    }
   ],
   "source": [
    "import numpy as np\n",
    "sales_max_index = np.argmax(data[:, -1])\n",
    "print(f'Max index of Sales column: {sales_max_index}')\n",
    "print(f'Max value of Sales column: {data[sales_max_index, -1]}')"
   ]
  },
  {
   "cell_type": "markdown",
   "metadata": {},
   "source": [
    "##### **Question 2**"
   ]
  },
  {
   "cell_type": "code",
   "execution_count": 12,
   "metadata": {},
   "outputs": [
    {
     "name": "stdout",
     "output_type": "stream",
     "text": [
      "Average value of TV column: 147.0425\n"
     ]
    }
   ],
   "source": [
    "import numpy as np\n",
    "average_tv_value = np.mean(data[:, 0])\n",
    "print(f'Average value of TV column: {average_tv_value}')"
   ]
  },
  {
   "cell_type": "markdown",
   "metadata": {},
   "source": [
    "##### **Question 3**"
   ]
  },
  {
   "cell_type": "code",
   "execution_count": 18,
   "metadata": {},
   "outputs": [
    {
     "name": "stdout",
     "output_type": "stream",
     "text": [
      "Number of records having Sales value greater or equal 20: 40\n"
     ]
    }
   ],
   "source": [
    "import numpy as np\n",
    "sales_geq_20_index = np.where(data[:, -1]>=20)[0]\n",
    "print(f'Number of records having Sales value greater or equal 20: {len(sales_geq_20_index)}')"
   ]
  },
  {
   "cell_type": "markdown",
   "metadata": {},
   "source": [
    "##### **Question 4**"
   ]
  },
  {
   "cell_type": "code",
   "execution_count": 23,
   "metadata": {},
   "outputs": [
    {
     "name": "stdout",
     "output_type": "stream",
     "text": [
      "Radio Mean Value: 26.22293577981651\n"
     ]
    }
   ],
   "source": [
    "import numpy as np\n",
    "sales_geq_15_index = np.where(data[:, -1]>=15)[0]\n",
    "radio_mean_value = np.mean(data[sales_geq_15_index, 1])\n",
    "print(f'Radio Mean Value: {radio_mean_value}')"
   ]
  },
  {
   "cell_type": "markdown",
   "metadata": {},
   "source": [
    "##### **Question 5**"
   ]
  },
  {
   "cell_type": "code",
   "execution_count": 25,
   "metadata": {},
   "outputs": [
    {
     "name": "stdout",
     "output_type": "stream",
     "text": [
      "Sum of Sales column: 1405.1\n"
     ]
    }
   ],
   "source": [
    "newspaper_mean_value = np.mean(data[:, 2])\n",
    "newspaper_gt_mean_index = np.where(data[:, 2]>newspaper_mean_value)[0]\n",
    "sales_sum_value = np.sum(data[newspaper_gt_mean_index, -1])\n",
    "print(f'Sum of Sales column: {sales_sum_value}')"
   ]
  },
  {
   "cell_type": "markdown",
   "metadata": {},
   "source": [
    "##### **Question 6**"
   ]
  },
  {
   "cell_type": "code",
   "execution_count": 26,
   "metadata": {},
   "outputs": [
    {
     "name": "stdout",
     "output_type": "stream",
     "text": [
      "['Bad', 'Bad', 'Good']\n"
     ]
    }
   ],
   "source": [
    "scores = []\n",
    "sales_mean_value = np.mean(data[:, -1])\n",
    "for sales_value in data[:, -1]:\n",
    "    if sales_value > sales_mean_value:\n",
    "        scores.append('Good')\n",
    "    elif sales_value < sales_mean_value:\n",
    "        scores.append('Bad')\n",
    "    else:\n",
    "        scores.append('Average')\n",
    "print(scores[7:10])"
   ]
  },
  {
   "cell_type": "markdown",
   "metadata": {},
   "source": [
    "##### **Question 7**"
   ]
  },
  {
   "cell_type": "code",
   "execution_count": 27,
   "metadata": {},
   "outputs": [
    {
     "name": "stdout",
     "output_type": "stream",
     "text": [
      "['Bad', 'Bad', 'Good']\n"
     ]
    }
   ],
   "source": [
    "def find_nearest(value, array):\n",
    "    nearest_value = np.inf\n",
    "    for arr_value in array:\n",
    "        if np.abs(arr_value-value) < np.abs(nearest_value-value):\n",
    "            nearest_value = arr_value\n",
    "    return nearest_value\n",
    "\n",
    "scores = []\n",
    "sales_mean_value = np.mean(data[:, -1])\n",
    "sales_nearest_value = find_nearest(sales_mean_value, data[:, -1])\n",
    "for sales_value in data[:, -1]:\n",
    "    if sales_value > sales_nearest_value:\n",
    "        scores.append('Good')\n",
    "    elif sales_value < sales_nearest_value:\n",
    "        scores.append('Bad')\n",
    "    else:\n",
    "        scores.append('Average')\n",
    "print(scores[7:10])"
   ]
  }
 ],
 "metadata": {
  "kernelspec": {
   "display_name": "factorial_env",
   "language": "python",
   "name": "python3"
  },
  "language_info": {
   "codemirror_mode": {
    "name": "ipython",
    "version": 3
   },
   "file_extension": ".py",
   "mimetype": "text/x-python",
   "name": "python",
   "nbconvert_exporter": "python",
   "pygments_lexer": "ipython3",
   "version": "3.11.8"
  }
 },
 "nbformat": 4,
 "nbformat_minor": 2
}
