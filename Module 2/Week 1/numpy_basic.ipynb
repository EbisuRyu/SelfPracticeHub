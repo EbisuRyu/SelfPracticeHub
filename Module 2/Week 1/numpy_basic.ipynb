{
 "cells": [
  {
   "cell_type": "markdown",
   "metadata": {},
   "source": [
    "##### **Question 1**"
   ]
  },
  {
   "cell_type": "code",
   "execution_count": 3,
   "metadata": {},
   "outputs": [
    {
     "name": "stdout",
     "output_type": "stream",
     "text": [
      "Numpy Array: [0 1 2 3 4 5 6 7 8 9]\n"
     ]
    }
   ],
   "source": [
    "import numpy as np\n",
    "arr = np.arange(0, 10, 1)\n",
    "print(f\"Numpy Array: {arr}\")"
   ]
  },
  {
   "cell_type": "markdown",
   "metadata": {},
   "source": [
    "##### **Question 2**"
   ]
  },
  {
   "cell_type": "code",
   "execution_count": 8,
   "metadata": {},
   "outputs": [
    {
     "name": "stdout",
     "output_type": "stream",
     "text": [
      "They are equal\n",
      "Result:\n",
      " [[ True  True  True]\n",
      " [ True  True  True]\n",
      " [ True  True  True]]\n"
     ]
    }
   ],
   "source": [
    "arr_1 = np.ones((3, 3)) > 0\n",
    "arr_2 = np.ones((3, 3), dtype=bool)\n",
    "arr_3 = np.full((3, 3), fill_value=True, dtype=bool)\n",
    "\n",
    "if np.array_equal(arr_1, arr_2) and np.array_equal(arr_2, arr_3):\n",
    "    print(\"They are equal\")\n",
    "else:\n",
    "    print(\"They are not equal\")\n",
    "print(f\"Result:\\n {arr_1}\")"
   ]
  },
  {
   "cell_type": "markdown",
   "metadata": {},
   "source": [
    "##### **Question 3**"
   ]
  },
  {
   "cell_type": "code",
   "execution_count": 10,
   "metadata": {},
   "outputs": [
    {
     "name": "stdout",
     "output_type": "stream",
     "text": [
      "[1 3 5 7 9]\n"
     ]
    }
   ],
   "source": [
    "import numpy as np\n",
    "arr = np.arange(0, 10)\n",
    "print(arr[arr%2 == 1])"
   ]
  },
  {
   "cell_type": "markdown",
   "metadata": {},
   "source": [
    "##### **Question 4**"
   ]
  },
  {
   "cell_type": "code",
   "execution_count": 11,
   "metadata": {},
   "outputs": [
    {
     "name": "stdout",
     "output_type": "stream",
     "text": [
      "[ 0 -1  2 -1  4 -1  6 -1  8 -1]\n"
     ]
    }
   ],
   "source": [
    "import numpy as np\n",
    "arr = np.arange(0, 10)\n",
    "arr[arr%2 == 1] = -1\n",
    "print(arr)"
   ]
  },
  {
   "cell_type": "markdown",
   "metadata": {},
   "source": [
    "##### **Question 5**"
   ]
  },
  {
   "cell_type": "code",
   "execution_count": 12,
   "metadata": {},
   "outputs": [
    {
     "name": "stdout",
     "output_type": "stream",
     "text": [
      "[[0 1 2 3 4]\n",
      " [5 6 7 8 9]]\n"
     ]
    }
   ],
   "source": [
    "import numpy as np\n",
    "arr = np.arange(10)\n",
    "arr_2d = arr.reshape(2, -1)\n",
    "print(arr_2d)"
   ]
  },
  {
   "cell_type": "markdown",
   "metadata": {},
   "source": [
    "##### **Question 6**"
   ]
  },
  {
   "cell_type": "code",
   "execution_count": 13,
   "metadata": {},
   "outputs": [
    {
     "name": "stdout",
     "output_type": "stream",
     "text": [
      "Result: \n",
      " [[0 1 2 3 4]\n",
      " [5 6 7 8 9]\n",
      " [0 1 2 3 4]\n",
      " [5 6 7 8 9]]\n"
     ]
    }
   ],
   "source": [
    "import numpy as np\n",
    "arr_1 = np.arange(10).reshape(2, -1)\n",
    "arr_2 = np.arange(10).reshape(2, -1)\n",
    "c = np.concatenate([arr_1, arr_2], axis=0)\n",
    "print(\"Result: \\n\", c)"
   ]
  },
  {
   "cell_type": "markdown",
   "metadata": {},
   "source": [
    "##### **Question 7**"
   ]
  },
  {
   "cell_type": "code",
   "execution_count": 1,
   "metadata": {},
   "outputs": [
    {
     "name": "stdout",
     "output_type": "stream",
     "text": [
      "C =  [[0 1 2 3 4 1 1 1 1 1]\n",
      " [5 6 7 8 9 1 1 1 1 1]]\n"
     ]
    }
   ],
   "source": [
    "import numpy as np\n",
    "arr_1 = np.arange(10).reshape(2, -1)\n",
    "arr_2 = np.repeat(1, 10).reshape(2, -1)\n",
    "c = np.concatenate([arr_1, arr_2], axis=1)\n",
    "print(\"C = \", c)"
   ]
  },
  {
   "cell_type": "markdown",
   "metadata": {},
   "source": [
    "##### **Question 8**"
   ]
  },
  {
   "cell_type": "code",
   "execution_count": 2,
   "metadata": {},
   "outputs": [
    {
     "name": "stdout",
     "output_type": "stream",
     "text": [
      "[1 1 1 2 2 2 3 3 3]\n",
      "[1 2 3 1 2 3 1 2 3]\n"
     ]
    }
   ],
   "source": [
    "import numpy as np\n",
    "arr = np.array([1, 2, 3])\n",
    "print(np.repeat(arr, 3))\n",
    "print(np.tile(arr, 3))"
   ]
  },
  {
   "cell_type": "markdown",
   "metadata": {},
   "source": [
    "##### **Question 9**"
   ]
  },
  {
   "cell_type": "code",
   "execution_count": 3,
   "metadata": {},
   "outputs": [
    {
     "name": "stdout",
     "output_type": "stream",
     "text": [
      "(array([1, 3, 4], dtype=int64),)\n"
     ]
    }
   ],
   "source": [
    "import numpy as np\n",
    "a = np.array([2, 6, 1, 9, 10, 3, 27])\n",
    "index = np.where((a>=5)&(a<=10))\n",
    "print(index)"
   ]
  },
  {
   "cell_type": "markdown",
   "metadata": {},
   "source": [
    "##### **Question 10**"
   ]
  },
  {
   "cell_type": "code",
   "execution_count": 4,
   "metadata": {},
   "outputs": [
    {
     "name": "stdout",
     "output_type": "stream",
     "text": [
      "[6. 7. 9. 8. 9. 7. 5.]\n"
     ]
    }
   ],
   "source": [
    "import numpy as np\n",
    "\n",
    "def max_x(x, y):\n",
    "    if x >= y:\n",
    "        return x\n",
    "    else:\n",
    "        return y\n",
    "\n",
    "a = np.array([5, 7, 9, 8, 6, 4, 5])\n",
    "b = np.array([6, 3, 4, 8, 9, 7, 1])\n",
    "\n",
    "pair_max = np.vectorize(max_x, otypes=[float])\n",
    "print(pair_max(a, b))"
   ]
  },
  {
   "cell_type": "markdown",
   "metadata": {},
   "source": [
    "##### **Question 11**"
   ]
  },
  {
   "cell_type": "code",
   "execution_count": 5,
   "metadata": {},
   "outputs": [
    {
     "name": "stdout",
     "output_type": "stream",
     "text": [
      "Result [6 7 9 8 9 7 5]\n"
     ]
    }
   ],
   "source": [
    "import numpy as np\n",
    "\n",
    "a = np.array([5, 7, 9, 8, 6, 4, 5])\n",
    "b = np.array([6, 3, 4, 8, 9, 7, 1])\n",
    "\n",
    "print(\"Result\", np.where(a<b, b, a))"
   ]
  }
 ],
 "metadata": {
  "kernelspec": {
   "display_name": "factorial_env",
   "language": "python",
   "name": "python3"
  },
  "language_info": {
   "codemirror_mode": {
    "name": "ipython",
    "version": 3
   },
   "file_extension": ".py",
   "mimetype": "text/x-python",
   "name": "python",
   "nbconvert_exporter": "python",
   "pygments_lexer": "ipython3",
   "version": "3.11.8"
  }
 },
 "nbformat": 4,
 "nbformat_minor": 2
}
