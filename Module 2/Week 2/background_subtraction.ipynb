{
 "cells": [
  {
   "cell_type": "markdown",
   "metadata": {},
   "source": [
    "##### **Resize Image**"
   ]
  },
  {
   "cell_type": "code",
   "execution_count": 40,
   "metadata": {},
   "outputs": [],
   "source": [
    "import numpy as np\n",
    "import cv2\n",
    "\n",
    "bg1_image = cv2.imread('./materials/GreenBackground.png', 1)\n",
    "bg1_image = cv2.resize(bg1_image, (678, 381))\n",
    "\n",
    "object_image = cv2.imread('./materials/Object.png', 1)\n",
    "object_image = cv2.resize(object_image, (678, 381))\n",
    "\n",
    "bg2_image = cv2.imread('./materials/NewBackground.jpg', 1)\n",
    "bg2_image = cv2.resize(bg2_image, (678, 381))"
   ]
  },
  {
   "cell_type": "markdown",
   "metadata": {},
   "source": [
    "##### **Compute Difference**"
   ]
  },
  {
   "cell_type": "code",
   "execution_count": 41,
   "metadata": {},
   "outputs": [],
   "source": [
    "def compute_difference(bg_img, input_img):\n",
    "    abs_difference = np.abs(bg_img - input_img)\n",
    "    difference_single_channel = np.sum(abs_difference, axis=-1, keepdims=True) / 3.0\n",
    "    return difference_single_channel.astype(np.uint8)\n",
    "\n",
    "difference_single_channel = compute_difference(bg1_image, object_image)\n",
    "cv2.imshow('Difference Single Channel', difference_single_channel)\n",
    "cv2.waitKey(0) \n",
    "cv2.destroyAllWindows() "
   ]
  },
  {
   "cell_type": "markdown",
   "metadata": {},
   "source": [
    "##### **Compute Binary Mask**"
   ]
  },
  {
   "cell_type": "code",
   "execution_count": 42,
   "metadata": {},
   "outputs": [],
   "source": [
    "def compute_binary_mask(difference_single_channel):\n",
    "    single_binary_mask = np.where(difference_single_channel > 10, 255, 0)\n",
    "    binary_mask = np.repeat(single_binary_mask, 3,  axis=-1)\n",
    "    return binary_mask.astype(np.uint8)\n",
    "\n",
    "binary_mask = compute_binary_mask(difference_single_channel)\n",
    "cv2.imshow('Binary Mask Image', binary_mask)\n",
    "cv2.waitKey(0) \n",
    "cv2.destroyAllWindows() "
   ]
  },
  {
   "cell_type": "markdown",
   "metadata": {},
   "source": [
    "##### **Replace Background**"
   ]
  },
  {
   "cell_type": "code",
   "execution_count": 43,
   "metadata": {},
   "outputs": [],
   "source": [
    "def replace_background(bg1_image, bg2_image, object_image):\n",
    "    difference_single_channel = compute_difference(bg1_image, object_image)\n",
    "    binary_mask = compute_binary_mask(difference_single_channel)\n",
    "    subtracted_image = np.where(binary_mask==255, object_image, bg2_image)\n",
    "    return subtracted_image.astype(np.uint8)\n",
    "\n",
    "replaced_background_image = replace_background(bg1_image, bg2_image, object_image)\n",
    "cv2.imshow('Replaced Background Image', replaced_background_image)\n",
    "cv2.waitKey(0) \n",
    "cv2.destroyAllWindows() "
   ]
  }
 ],
 "metadata": {
  "kernelspec": {
   "display_name": "factorial_env",
   "language": "python",
   "name": "python3"
  },
  "language_info": {
   "codemirror_mode": {
    "name": "ipython",
    "version": 3
   },
   "file_extension": ".py",
   "mimetype": "text/x-python",
   "name": "python",
   "nbconvert_exporter": "python",
   "pygments_lexer": "ipython3",
   "version": "3.11.8"
  }
 },
 "nbformat": 4,
 "nbformat_minor": 2
}
