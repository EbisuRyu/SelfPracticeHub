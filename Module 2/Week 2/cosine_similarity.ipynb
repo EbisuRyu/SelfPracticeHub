{
 "cells": [
  {
   "cell_type": "markdown",
   "metadata": {},
   "source": [
    "##### **Cosine Similarity**"
   ]
  },
  {
   "cell_type": "markdown",
   "metadata": {},
   "source": [
    "**Finding Cosine Similarity of $x=\\left(\\begin{array}{cc} 1 \\\\ 2 \\\\ 3 \\\\ 4 \\end{array}\\right), y=\\left(\\begin{array}{cc} 1 \\\\ 0 \\\\ 3 \\\\ 0 \\end{array}\\right)$**\n",
    "\n",
    "$$cos(x, y) = \\frac{1.1 + 2.0 + 3.3 + 4.0}{\\sqrt{1^2 + 2^2 + 3^2 + 4^2}.\\sqrt{1^2 + 0^2 + 3^2 + 0^2}} = 0.577$$"
   ]
  },
  {
   "cell_type": "code",
   "execution_count": 1,
   "metadata": {},
   "outputs": [
    {
     "name": "stdout",
     "output_type": "stream",
     "text": [
      "Cosine similarity: 0.5773502691896257\n"
     ]
    }
   ],
   "source": [
    "import numpy as np \n",
    "\n",
    "def compute_cosine(vector_1, vector_2):\n",
    "    dot_product = vector_1.dot(vector_2)\n",
    "    length_product = np.linalg.norm(vector_1) * np.linalg.norm(vector_2)\n",
    "    cosine_similarity = dot_product / length_product\n",
    "    return cosine_similarity\n",
    "\n",
    "vector_1 = np.array([1, 2, 3, 4])\n",
    "vector_2 = np.array([1, 0, 3, 0])\n",
    "cosine_similarity = compute_cosine(vector_1, vector_2)\n",
    "print(f'Cosine similarity: {cosine_similarity}')"
   ]
  }
 ],
 "metadata": {
  "kernelspec": {
   "display_name": "factorial_env",
   "language": "python",
   "name": "python3"
  },
  "language_info": {
   "codemirror_mode": {
    "name": "ipython",
    "version": 3
   },
   "file_extension": ".py",
   "mimetype": "text/x-python",
   "name": "python",
   "nbconvert_exporter": "python",
   "pygments_lexer": "ipython3",
   "version": "3.11.8"
  }
 },
 "nbformat": 4,
 "nbformat_minor": 2
}
