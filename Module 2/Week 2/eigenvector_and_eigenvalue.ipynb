{
 "cells": [
  {
   "cell_type": "markdown",
   "metadata": {},
   "source": [
    "##### **Eigenvector and eigenvalue**"
   ]
  },
  {
   "cell_type": "markdown",
   "metadata": {},
   "source": [
    "**Eigen Values and Eigen Vectors of $A = \\left(\\begin{array}{cc} 0.9 & 0.2 \\\\ 0.1 & 0.8 \\end{array}\\right)$**\n",
    "$$det(A-\\lambda I) = 0 \\Leftrightarrow det\\left(\\begin{array}{cc} 0.9 - \\lambda & 0.2 \\\\ 0.1 & 0.8 - \\lambda \\end{array}\\right) = 0$$\n",
    "$$\\Rightarrow (0.9 - \\lambda).(0.8 - \\lambda) - 0.02 = 0$$\n",
    "$$\\Rightarrow (1 - \\lambda).(0.7 - \\lambda) = 0$$\n",
    "$$\\Rightarrow \\lambda_{1} = 1, \\lambda_{2} = 0.7$$\n",
    "**Find 2 eigen vectors with 2 eigen values and then normalize them, we have:**\n",
    "$$ v_{1} = \\left(\\begin{array}{cc} 0.89 \\\\ -0.71 \\end{array}\\right), v_{2} = \\left(\\begin{array}{cc} 0.45 \\\\ 0.71 \\end{array}\\right)$$"
   ]
  },
  {
   "cell_type": "code",
   "execution_count": 1,
   "metadata": {},
   "outputs": [
    {
     "name": "stdout",
     "output_type": "stream",
     "text": [
      "Eigen values: [1.  0.7]\n",
      "Eigen vectors: [[ 0.89442719 -0.70710678]\n",
      " [ 0.4472136   0.70710678]]\n"
     ]
    }
   ],
   "source": [
    "import numpy as np\n",
    "\n",
    "def compute_eigenvalues_eigenvectors(matrix):\n",
    "    eigenvalues, eigenvectors = np.linalg.eig(matrix)\n",
    "    return eigenvalues, eigenvectors\n",
    "\n",
    "matrix = np.array([\n",
    "    [0.9, 0.2],\n",
    "    [0.1, 0.8]\n",
    "])\n",
    "\n",
    "eigenvalues, eigenvectors = compute_eigenvalues_eigenvectors(matrix)\n",
    "print(f'Eigen values: {eigenvalues}')\n",
    "print(f'Eigen vectors: {eigenvectors}')"
   ]
  }
 ],
 "metadata": {
  "kernelspec": {
   "display_name": "factorial_env",
   "language": "python",
   "name": "python3"
  },
  "language_info": {
   "codemirror_mode": {
    "name": "ipython",
    "version": 3
   },
   "file_extension": ".py",
   "mimetype": "text/x-python",
   "name": "python",
   "nbconvert_exporter": "python",
   "pygments_lexer": "ipython3",
   "version": "3.11.8"
  }
 },
 "nbformat": 4,
 "nbformat_minor": 2
}
