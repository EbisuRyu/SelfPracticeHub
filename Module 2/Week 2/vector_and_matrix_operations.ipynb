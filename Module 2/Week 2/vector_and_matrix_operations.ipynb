{
 "cells": [
  {
   "cell_type": "markdown",
   "metadata": {},
   "source": [
    "##### **Length of a vector**"
   ]
  },
  {
   "cell_type": "code",
   "execution_count": 6,
   "metadata": {},
   "outputs": [
    {
     "name": "stdout",
     "output_type": "stream",
     "text": [
      "Vector length: 3.7416573867739413\n"
     ]
    }
   ],
   "source": [
    "import numpy as np\n",
    "\n",
    "def compute_vector_length(vector):\n",
    "    square_sum = np.sum(vector ** 2, axis=0)\n",
    "    vector_length = np.sqrt(square_sum)\n",
    "    return vector_length\n",
    "\n",
    "arr = np.array([1, 2, 3])\n",
    "print(f'Vector length: {compute_vector_length(arr)}')"
   ]
  },
  {
   "cell_type": "markdown",
   "metadata": {},
   "source": [
    "##### **Dot product**"
   ]
  },
  {
   "cell_type": "code",
   "execution_count": 7,
   "metadata": {},
   "outputs": [
    {
     "name": "stdout",
     "output_type": "stream",
     "text": [
      "Dot product: 56\n"
     ]
    }
   ],
   "source": [
    "import numpy as np\n",
    "\n",
    "def compute_dot_product(vector1, vector2):\n",
    "    dot_product = vector1.dot(vector2)\n",
    "    return dot_product\n",
    "\n",
    "arr_1 = np.array([1, 2, 3])\n",
    "arr_2 = np.array([8, 9, 10])\n",
    "print(f'Dot product: {compute_dot_product(arr_1, arr_2)}')"
   ]
  },
  {
   "cell_type": "markdown",
   "metadata": {},
   "source": [
    "##### **Multiplying a vector by matrix**"
   ]
  },
  {
   "cell_type": "code",
   "execution_count": 8,
   "metadata": {},
   "outputs": [
    {
     "name": "stdout",
     "output_type": "stream",
     "text": [
      "[14 14 14]\n"
     ]
    }
   ],
   "source": [
    "import numpy as np\n",
    "\n",
    "def matrix_multi_vector(matrix, vector):\n",
    "    result = np.matmul(matrix, vector)\n",
    "    return result\n",
    "\n",
    "matrix = np.array([\n",
    "    [1, 2, 3],\n",
    "    [1, 2, 3],\n",
    "    [1, 2, 3]\n",
    "])\n",
    "\n",
    "vector = np.array([1, 2, 3])\n",
    "result = matrix_multi_vector(matrix, vector)\n",
    "print(result) "
   ]
  },
  {
   "cell_type": "markdown",
   "metadata": {},
   "source": [
    "##### **Multiplying a matrix by a matrix**"
   ]
  },
  {
   "cell_type": "code",
   "execution_count": 9,
   "metadata": {},
   "outputs": [
    {
     "name": "stdout",
     "output_type": "stream",
     "text": [
      "[[ 21  96 273]\n",
      " [ 14  28 102]\n",
      " [104 262 132]]\n"
     ]
    }
   ],
   "source": [
    "import numpy as np\n",
    "\n",
    "def matrix_multi_matrix(matrix1, matrix2):\n",
    "    result = np.matmul(matrix1, matrix2)\n",
    "    return result\n",
    "\n",
    "matrix1 = np.array([\n",
    "    [1, 2, 8],\n",
    "    [1, 0, 3],\n",
    "    [9, 2, 3]\n",
    "])\n",
    "\n",
    "matrix2 = np.array([\n",
    "    [11, 22, 3],\n",
    "    [1, 29, 3],\n",
    "    [1, 2, 33]\n",
    "])\n",
    "\n",
    "result = matrix_multi_matrix(matrix1, matrix2)\n",
    "print(result)"
   ]
  },
  {
   "cell_type": "markdown",
   "metadata": {},
   "source": [
    "##### **Matrix inverse**"
   ]
  },
  {
   "cell_type": "markdown",
   "metadata": {},
   "source": [
    "**Inverse matrix of A**\n",
    "$$ A = \\left(\\begin{array}{cc} -2 & 6 \\\\ 8 & -4 \\end{array}\\right)$$\n",
    "$$ det(A) = -4.-2 + 8.6 = 56\\Rightarrow det(A) \\neq 0$$\n",
    "**So $A$ is invertible, we can have inverse matrix of $A$ is:**\n",
    "$$ A^{-1} = \\frac{1}{det(A)}.\\left(\\begin{array}{cc} -4 & -6 \\\\ -8 & -2 \\end{array}\\right) = \\frac{1}{56}.\\left(\\begin{array}{cc} -4 & -6 \\\\ -8 & -2 \\end{array}\\right) = \\left(\\begin{array}{cc} 0.1 & 0.15 \\\\ 0.2 & 0.05 \\end{array}\\right)$$"
   ]
  },
  {
   "cell_type": "code",
   "execution_count": 10,
   "metadata": {},
   "outputs": [
    {
     "name": "stdout",
     "output_type": "stream",
     "text": [
      "[[0.1  0.15]\n",
      " [0.2  0.05]]\n"
     ]
    }
   ],
   "source": [
    "import numpy as np\n",
    "\n",
    "def inverse_matrix(matrix):\n",
    "    inverse = np.linalg.inv(matrix)\n",
    "    return inverse\n",
    "\n",
    "matrix = np.array([\n",
    "    [-2, 6],\n",
    "    [8, -4],\n",
    "])\n",
    "\n",
    "inverse = inverse_matrix(matrix)\n",
    "print(inverse)"
   ]
  }
 ],
 "metadata": {
  "kernelspec": {
   "display_name": "factorial_env",
   "language": "python",
   "name": "python3"
  },
  "language_info": {
   "codemirror_mode": {
    "name": "ipython",
    "version": 3
   },
   "file_extension": ".py",
   "mimetype": "text/x-python",
   "name": "python",
   "nbconvert_exporter": "python",
   "pygments_lexer": "ipython3",
   "version": "3.11.8"
  }
 },
 "nbformat": 4,
 "nbformat_minor": 2
}
